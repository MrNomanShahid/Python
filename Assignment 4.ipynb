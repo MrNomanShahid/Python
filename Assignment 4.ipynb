{
 "cells": [
  {
   "cell_type": "code",
   "execution_count": null,
   "metadata": {},
   "outputs": [],
   "source": [
    "print(\"Question 1\")\n",
    "person = {\n",
    "    'first_name': 'Noman',\n",
    "    'last_name': 'Shahid',\n",
    "    'age': 29,\n",
    "    'city': 'Mirpurkhas',\n",
    "    }\n",
    "\n",
    "print(person['first_name'])\n",
    "print(person['last_name'])\n",
    "print(person['age'])\n",
    "print(person['city'])\n",
    "\n",
    "person = {\n",
    "    'qualification' : 'Bachlor'\n",
    "    }\n",
    "print(person['qualification'])\n",
    "\n",
    "del(person['qualification'])\n",
    "\n",
    "print(person)"
   ]
  },
  {
   "cell_type": "code",
   "execution_count": null,
   "metadata": {},
   "outputs": [],
   "source": [
    "print(\"Question 2\")\n",
    "cities = {\n",
    "    'Karachi': {\n",
    "        'country': 'Pakistan',\n",
    "        'population': 15147416,\n",
    "        'known as': 'City of Lights',\n",
    "        },\n",
    "    'mirpurkhas': {\n",
    "        'country': 'Pakistan',\n",
    "        'population': 505876,\n",
    "        'known as': 'Mango City',\n",
    "        },\n",
    "    'Hyderabad': {\n",
    "        'country': 'Pakistan',\n",
    "        'population': 5737601,\n",
    "        'known as': 'Pakka Qilla',\n",
    "        }\n",
    "    }\n",
    "\n",
    "for city, city_info in cities.items():\n",
    "    country = city_info['country'].title()\n",
    "    population = city_info['population']\n",
    "    known = city_info['known as'].title()\n",
    "\n",
    "    print(\"\\n\" + city.title() + \" is in \" + country + \".\")\n",
    "    print(\"  It has a population of about \" + str(population) + \".\")\n",
    "    print(\"  Known as \" + known + \".\")"
   ]
  },
  {
   "cell_type": "code",
   "execution_count": null,
   "metadata": {},
   "outputs": [],
   "source": [
    "print(\"Question 4\")\n",
    "\n",
    "def favorite_book(title):\n",
    "    \n",
    "    print(title + \" One of my favorite books is.\")\n",
    "\n",
    "favorite_book('Information Technology')\n"
   ]
  },
  {
   "cell_type": "code",
   "execution_count": null,
   "metadata": {},
   "outputs": [],
   "source": [
    "print(\"Question 3\")\n",
    "\n",
    "prompt = \"How old are you?\"\n",
    "\n",
    "\n",
    "while True:\n",
    "    age = input(prompt)\n",
    "    if age == 'quit':\n",
    "        break\n",
    "    age = int(age)\n",
    "\n",
    "    if age < 3:\n",
    "        print(\"  You get in free!\")\n",
    "    elif age < 13:\n",
    "        print(\"  Your ticket is $10.\")\n",
    "    else:\n",
    "        print(\"  Your ticket is $15.\")"
   ]
  },
  {
   "cell_type": "code",
   "execution_count": null,
   "metadata": {},
   "outputs": [],
   "source": []
  }
 ],
 "metadata": {
  "kernelspec": {
   "display_name": "Python 3",
   "language": "python",
   "name": "python3"
  }
 },
 "nbformat": 4,
 "nbformat_minor": 2
}
