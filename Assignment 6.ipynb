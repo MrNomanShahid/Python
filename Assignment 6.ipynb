{
 "cells": [
  {
   "cell_type": "code",
   "execution_count": null,
   "metadata": {},
   "outputs": [],
   "source": [
    "print(\"Question 1\")\n",
    "print(\"Object-oriented programming (OOP) refers to a type of computer programming (software design) in which programmers define not only the data type of a data structure, but also the types of operations (functions) that can be applied to the data structure\")"
   ]
  },
  {
   "cell_type": "code",
   "execution_count": null,
   "metadata": {},
   "outputs": [],
   "source": [
    "print(\"Question 2\")\n",
    "print(\"There are many benefits of OOP but these are major benefits\")\n",
    "print (\"1. Modularity for easier troubleshooting\")\n",
    "print (\"2. Reuse of code through inheritance\")\n",
    "print (\"3. Flexibility through polymorphism\")\n",
    "print (\"4. Effective problem solving\")\n"
   ]
  },
  {
   "cell_type": "code",
   "execution_count": null,
   "metadata": {},
   "outputs": [],
   "source": [
    "print(\"Question 3\")\n",
    "\n",
    "print(\"Differentiate between function and method?\")\n",
    "print(\"function\")\n",
    "print(\"A function is a piece of code that is called by name. It can be passed data to operate on (i.e. the parameters) and can optionally return data (the return value). All data that is passed to a function is explicitly passed\")\n",
    "print(\"Method\")\n",
    "print (\"A method is a piece of code that is called by a name that is associated with an object.\")"
   ]
  },
  {
   "cell_type": "code",
   "execution_count": null,
   "metadata": {},
   "outputs": [],
   "source": []
  }
 ],
 "metadata": {
  "kernelspec": {
   "display_name": "Python 3",
   "language": "python",
   "name": "python3"
  }
 },
 "nbformat": 4,
 "nbformat_minor": 2
}
