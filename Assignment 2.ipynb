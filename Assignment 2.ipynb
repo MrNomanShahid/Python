{
 "cells": [
  {
   "cell_type": "code",
   "execution_count": null,
   "metadata": {},
   "outputs": [],
   "source": [
    "print(\"Enter marks obtained in 5 subjects\")\n",
    "\n",
    "sub1 = int(input(\"Subject 1 :\"))\n",
    "sub2 = int(input(\"Subject 2 :\"))\n",
    "sub3 = int(input(\"Subject 3 :\"))\n",
    "sub4 = int(input(\"Subject 4 :\"))\n",
    "sub5 = int(input(\"Subject 5 :\"))\n",
    "    \n",
    "ttl = sub5 + sub4 + sub3 + sub2 + sub1\n",
    "avr = t/5\n",
    "\n",
    "if(avr>=91 and average<=100):\n",
    "    print(\"A+\");\n",
    "elif(avr>=81 and average<=90):\n",
    "    print(\"A\");\n",
    "elif(avr>=71 and average<=80):\n",
    "    print(\"B+\");\n",
    "elif(avr>=61 and average<=70):\n",
    "    print(\"B\");\n",
    "elif(avr>=51 and average<=60):\n",
    "    print(\"C+\");\n",
    "elif(avr>=41 and average<=50):\n",
    "    print(\"C\");\n",
    "elif(average>=0 and average<=40):\n",
    "    print(\"F\")\n",
    "else:\n",
    "    print(\"!\")"
   ]
  },
  {
   "cell_type": "code",
   "execution_count": null,
   "metadata": {},
   "outputs": [],
   "source": [
    "number = int(input())\n",
    "\n",
    "if (number % 4) == 0:\n",
    "   print(\"Your \" + .format(number) + \" is Even\")\n",
    "else:\n",
    "   print(\"Your \" + .format(number) + \" is ODD\")\n"
   ]
  },
  {
   "cell_type": "code",
   "execution_count": null,
   "metadata": {},
   "outputs": [],
   "source": [
    "List = [\"one\",\"two\",\"three\",\"four\",\"five\"]\n",
    "print(\"Lenght of the list : {0}\".format(len(List)))\n"
   ]
  },
  {
   "cell_type": "code",
   "execution_count": null,
   "metadata": {},
   "outputs": [],
   "source": [
    "a = [1,2,3,4,5,6,3,1] \n",
    "print(\"Sum of all is : {0}\".format(sum(a)))\n"
   ]
  },
  {
   "cell_type": "code",
   "execution_count": null,
   "metadata": {},
   "outputs": [],
   "source": [
    "a = [8134, 7630, 8904, 6587, 3453] \n",
    "print(\"Largest number in list is: {0}\" .format(max(a)))\n"
   ]
  },
  {
   "cell_type": "code",
   "execution_count": null,
   "metadata": {},
   "outputs": [],
   "source": [
    "a = [1, 1, 2, 3, 5, 8, 13, 21, 34, 55, 89]\n",
    "\n",
    "d = 0\n",
    "while d < len(a):\n",
    "    if(a[d] < 5) :\n",
    "        print(a[d])\n",
    "    \n",
    "    d += 1\n"
   ]
  },
  {
   "cell_type": "code",
   "execution_count": null,
   "metadata": {},
   "outputs": [],
   "source": []
  }
 ],
 "metadata": {
  "kernelspec": {
   "display_name": "Python 3",
   "language": "python",
   "name": "python3"
  }
 },
 "nbformat": 4,
 "nbformat_minor": 2
}
