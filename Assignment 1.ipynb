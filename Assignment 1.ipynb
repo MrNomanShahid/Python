{
 "cells": [
  {
   "cell_type": "code",
   "execution_count": null,
   "metadata": {},
   "outputs": [],
   "source": [
    "print(\"Twinkle, twinkle, little star,\\n\")\n",
    "print(\"\\tHow I wonder what you are!\\n\")\n",
    "print(\"\\tUp above the world so high,\\n\")\n",
    "print(\"\\tLike a diamond in the sky.\\n\")\n",
    "print(\"Twinkle, twinkle, little star,\\n\")\n",
    "print(\"\\tHow I wonder what you are\\n\")"
   ]
  },
  {
   "cell_type": "code",
   "execution_count": null,
   "metadata": {},
   "outputs": [],
   "source": [
    "print(\"Your Python version is = 3.7\")"
   ]
  },
  {
   "cell_type": "code",
   "execution_count": null,
   "metadata": {},
   "outputs": [],
   "source": [
    "import datetime\n",
    "print(datetime.datetime.now())"
   ]
  },
  {
   "cell_type": "code",
   "execution_count": null,
   "metadata": {},
   "outputs": [],
   "source": [
    "pi = 3.14\n",
    "r = float(input('Enter Radius: '))\n",
    "a = pi * r * r\n",
    "print(\" Area Of a Circle =\")\n",
    "print(a);"
   ]
  },
  {
   "cell_type": "code",
   "execution_count": null,
   "metadata": {},
   "outputs": [],
   "source": [
    "fName = input('Please Enter Your First Name : ')\n",
    "lName = input('Please Enter Your Last Name : ')\n",
    "print( lName + \" \" + fName);"
   ]
  },
  {
   "cell_type": "code",
   "execution_count": null,
   "metadata": {},
   "outputs": [],
   "source": [
    "input1 = int(input('Please First Number : '))\n",
    "input2 = int(input('Please Second Number : '))\n",
    "total = input1 + input2\n",
    "\n",
    "print(\"Your Total is\")\n",
    "print(total)"
   ]
  },
  {
   "cell_type": "code",
   "execution_count": null,
   "metadata": {},
   "outputs": [],
   "source": []
  }
 ],
 "metadata": {
  "kernelspec": {
   "display_name": "Python 3",
   "language": "python",
   "name": "python3"
  }
 },
 "nbformat": 4,
 "nbformat_minor": 2
}
