{
 "cells": [
  {
   "cell_type": "code",
   "execution_count": null,
   "metadata": {},
   "outputs": [],
   "source": [
    "print(\"CALCULATOR\")\n",
    "\n",
    "def add(x,y):\n",
    "  return x+y\n",
    "\n",
    "def sub(x,y):\n",
    "  return x-y\n",
    "\n",
    "def mul(x,y):\n",
    "  return x*y\n",
    "\n",
    "def div(x,y):\n",
    "  return x/y\n",
    "def sqr(x,Y):\n",
    "  return (x**y)\n",
    "\n",
    "print(\"Select Operators \")\n",
    "print(\"1 : for Addition \")\n",
    "print(\"2 : for Subtraction\")\n",
    "print(\"3 : for Multiplication\")      \n",
    "print(\"4 : for Division\") \n",
    "  \n",
    "      \n",
    "choice=input(\"Enter choice 1,2,3,4\")\n",
    "num1=int(input(\"Enter Number 1 :\"))  \n",
    "num2=int(input(\"Enter Number 2:\"))\n",
    "\n",
    "      \n",
    "if choice == \"1\":\n",
    "  print(num1,\"+\",num2, \"=\",add(num1,num2))\n",
    "elif choice == \"2\":\n",
    "  print(num1 ,\"-\",num2,\"=\",sub(num1,num2))\n",
    "elif choice == \"3\":\n",
    "  print(num1, \"*\",num2,\"=\",mul(num1,num2))\n",
    "elif choice == \"4\":\n",
    "  print(num1, \"/\" ,num2,\"=\",div(num1,num2))"
   ]
  },
  {
   "cell_type": "code",
   "execution_count": null,
   "metadata": {},
   "outputs": [],
   "source": [
    "print(\"Python script to add a key to a dictionary\")\n",
    "d = {0:10, 1:20}  \n",
    "print(d)  \n",
    "d.update({2:30})  \n",
    "print(d)  \n"
   ]
  },
  {
   "cell_type": "code",
   "execution_count": null,
   "metadata": {},
   "outputs": [],
   "source": [
    "print (\"Python program to sum all the numeric items in a dictionary\") \n",
    " \n",
    "def returnSum(myDict): \n",
    "\n",
    "sum = 0\n",
    "    for i in myDict: \n",
    "        sum = sum + myDict[i] \n",
    "    \n",
    "    return sum\n",
    "\n",
    "dict = {'a': 100, 'b':200, 'c':300} \n",
    "print(\"Sum :\", returnSum(dict)) \n",
    " "
   ]
  },
  {
   "cell_type": "code",
   "execution_count": null,
   "metadata": {},
   "outputs": [],
   "source": [
    "print (\"Python script to check if a given key already exists in a dictionary\") \n",
    " \n",
    "d = {1: 10, 2: 20, 3: 30, 4: 40, 5: 50, 6: 60}\n",
    "def is_key_present(x):\n",
    "  if x in d:\n",
    "      print('Key is present in the dictionary')\n",
    "  else:\n",
    "      print('Key is not present in the dictionary')\n",
    "is_key_present(5)\n",
    "is_key_present(9) "
   ]
  },
  {
   "cell_type": "code",
   "execution_count": null,
   "metadata": {},
   "outputs": [],
   "source": []
  }
 ],
 "metadata": {
  "kernelspec": {
   "display_name": "Python 3",
   "language": "python",
   "name": "python3"
  }
 },
 "nbformat": 4,
 "nbformat_minor": 2
}
